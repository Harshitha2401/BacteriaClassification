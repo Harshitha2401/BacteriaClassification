{
 "cells": [
  {
   "cell_type": "markdown",
   "metadata": {
    "id": "wADSHeMDv5cC"
   },
   "source": [
    "### Import libraries"
   ]
  },
  {
   "cell_type": "code",
   "execution_count": 1,
   "metadata": {
    "id": "xHIPR5Fhh1-C"
   },
   "outputs": [],
   "source": [
    "import warnings\n",
    "warnings.filterwarnings(\"ignore\")\n",
    "\n",
    "import pandas as pd\n",
    "import numpy as np\n",
    "import glob\n",
    "import matplotlib.pyplot as plt\n",
    "%matplotlib inline\n",
    "from tqdm import tqdm\n",
    "from sklearn.utils import shuffle\n",
    "from sklearn.model_selection import train_test_split\n",
    "from tensorflow.keras.preprocessing.image import load_img,img_to_array\n",
    "from tensorflow.keras.models import load_model\n",
    "import os"
   ]
  },
  {
   "cell_type": "markdown",
   "metadata": {
    "id": "Y4WiE_XEv9lL"
   },
   "source": [
    "### Data loading"
   ]
  },
  {
   "cell_type": "code",
   "execution_count": 2,
   "metadata": {
    "id": "j23gITVgMzF0"
   },
   "outputs": [],
   "source": [
    "base_dir=\"dataset\""
   ]
  },
  {
   "cell_type": "code",
   "execution_count": 3,
   "metadata": {
    "colab": {
     "base_uri": "https://localhost:8080/"
    },
    "executionInfo": {
     "elapsed": 4,
     "status": "ok",
     "timestamp": 1673436312803,
     "user": {
      "displayName": "Pulavendran S",
      "userId": "09545379829326731753"
     },
     "user_tz": -330
    },
    "id": "7XaymSOVkyUs",
    "outputId": "faad56cf-aa50-432c-adf6-685dce86ba5a"
   },
   "outputs": [
    {
     "name": "stdout",
     "output_type": "stream",
     "text": [
      "['Acinetobacter.baumanii', 'Actinetobacter.israeli', 'Candida.albicans', 'Clostridium.perfringens', 'Fusobacterium', 'Lactobacillus.casei', 'Lactobacillus.paracasei', 'Listeria.monocytogenes', 'Porfyromonas.gingivalis', 'Veionella']\n"
     ]
    }
   ],
   "source": [
    "class_labels=os.listdir(base_dir)\n",
    "print(class_labels)"
   ]
  },
  {
   "cell_type": "code",
   "execution_count": 4,
   "metadata": {
    "colab": {
     "base_uri": "https://localhost:8080/"
    },
    "executionInfo": {
     "elapsed": 228360,
     "status": "ok",
     "timestamp": 1673436546714,
     "user": {
      "displayName": "Pulavendran S",
      "userId": "09545379829326731753"
     },
     "user_tz": -330
    },
    "id": "DPBmY2Tt4d76",
    "outputId": "199728bc-a368-4298-8987-9254d60b3d61"
   },
   "outputs": [
    {
     "name": "stdout",
     "output_type": "stream",
     "text": [
      "loading data from dataset\\Acinetobacter.baumanii\n",
      "loading data from dataset\\Actinetobacter.israeli\n",
      "loading data from dataset\\Candida.albicans\n",
      "loading data from dataset\\Clostridium.perfringens\n",
      "loading data from dataset\\Fusobacterium\n",
      "loading data from dataset\\Lactobacillus.casei\n",
      "loading data from dataset\\Lactobacillus.paracasei\n",
      "loading data from dataset\\Listeria.monocytogenes\n",
      "loading data from dataset\\Porfyromonas.gingivalis\n",
      "loading data from dataset\\Veionella\n",
      "Data loading completed\n"
     ]
    }
   ],
   "source": [
    "data=[]\n",
    "count=0\n",
    "for label in class_labels:\n",
    "    print(f\"loading data from {os.path.join(base_dir,label)}\")\n",
    "    files=os.listdir(os.path.join(base_dir,label))\n",
    "    for file_ in files:\n",
    "        fullpath=os.path.join(base_dir,label,file_)\n",
    "        try:\n",
    "            image=load_img(path=fullpath,\n",
    "                    grayscale=False,\n",
    "                    color_mode='rgb',\n",
    "                    target_size=(128,128))\n",
    "            array_image=img_to_array(image)\n",
    "            normalized_image=array_image/255.0\n",
    "            data.append([normalized_image,count])\n",
    "        except Exception as e:\n",
    "            continue\n",
    "    count+=1\n",
    "print(\"Data loading completed\")"
   ]
  },
  {
   "cell_type": "markdown",
   "metadata": {
    "id": "MwLjrOlswAiq"
   },
   "source": [
    "### Data preprocessing"
   ]
  },
  {
   "cell_type": "code",
   "execution_count": 5,
   "metadata": {
    "id": "0GVzPx_wOhcl"
   },
   "outputs": [],
   "source": [
    "X,y=zip(*data)"
   ]
  },
  {
   "cell_type": "code",
   "execution_count": 6,
   "metadata": {
    "colab": {
     "base_uri": "https://localhost:8080/"
    },
    "executionInfo": {
     "elapsed": 1598,
     "status": "ok",
     "timestamp": 1673436610810,
     "user": {
      "displayName": "Pulavendran S",
      "userId": "09545379829326731753"
     },
     "user_tz": -330
    },
    "id": "RuaqBIlIPIvM",
    "outputId": "2825d446-2d04-44fa-b939-5edd9992275a"
   },
   "outputs": [
    {
     "name": "stdout",
     "output_type": "stream",
     "text": [
      "(11184, 128, 128, 3) (11184,)\n"
     ]
    }
   ],
   "source": [
    "X=np.asarray(X)\n",
    "y=np.asarray(y)\n",
    "X,y=shuffle(X, y, random_state=42)\n",
    "print(X.shape,y.shape)"
   ]
  },
  {
   "cell_type": "markdown",
   "metadata": {
    "id": "h3OlGM-ZwGRU"
   },
   "source": [
    "### Model loading"
   ]
  },
  {
   "cell_type": "code",
   "execution_count": 7,
   "metadata": {
    "id": "PLExj_vhmJgA"
   },
   "outputs": [],
   "source": [
    "cnn_model=load_model(\"model/ConvolutionalNeuralNetwork_model.h5\")"
   ]
  },
  {
   "cell_type": "code",
   "execution_count": 8,
   "metadata": {
    "colab": {
     "base_uri": "https://localhost:8080/"
    },
    "executionInfo": {
     "elapsed": 28,
     "status": "ok",
     "timestamp": 1673436684176,
     "user": {
      "displayName": "Pulavendran S",
      "userId": "09545379829326731753"
     },
     "user_tz": -330
    },
    "id": "JTifYukMmJH_",
    "outputId": "dd224bc4-bb7e-4811-f1bf-a68215ffd3f4"
   },
   "outputs": [
    {
     "name": "stdout",
     "output_type": "stream",
     "text": [
      "Model: \"sequential\"\n",
      "_________________________________________________________________\n",
      " Layer (type)                Output Shape              Param #   \n",
      "=================================================================\n",
      " conv2d (Conv2D)             (None, 128, 128, 64)      1792      \n",
      "                                                                 \n",
      " batch_normalization (BatchN  (None, 128, 128, 64)     256       \n",
      " ormalization)                                                   \n",
      "                                                                 \n",
      " max_pooling2d (MaxPooling2D  (None, 64, 64, 64)       0         \n",
      " )                                                               \n",
      "                                                                 \n",
      " conv2d_1 (Conv2D)           (None, 64, 64, 128)       73856     \n",
      "                                                                 \n",
      " batch_normalization_1 (Batc  (None, 64, 64, 128)      512       \n",
      " hNormalization)                                                 \n",
      "                                                                 \n",
      " max_pooling2d_1 (MaxPooling  (None, 32, 32, 128)      0         \n",
      " 2D)                                                             \n",
      "                                                                 \n",
      " conv2d_2 (Conv2D)           (None, 32, 32, 256)       295168    \n",
      "                                                                 \n",
      " batch_normalization_2 (Batc  (None, 32, 32, 256)      1024      \n",
      " hNormalization)                                                 \n",
      "                                                                 \n",
      " max_pooling2d_2 (MaxPooling  (None, 16, 16, 256)      0         \n",
      " 2D)                                                             \n",
      "                                                                 \n",
      " conv2d_3 (Conv2D)           (None, 16, 16, 512)       1180160   \n",
      "                                                                 \n",
      " batch_normalization_3 (Batc  (None, 16, 16, 512)      2048      \n",
      " hNormalization)                                                 \n",
      "                                                                 \n",
      " max_pooling2d_3 (MaxPooling  (None, 8, 8, 512)        0         \n",
      " 2D)                                                             \n",
      "                                                                 \n",
      " conv2d_4 (Conv2D)           (None, 8, 8, 512)         2359808   \n",
      "                                                                 \n",
      " batch_normalization_4 (Batc  (None, 8, 8, 512)        2048      \n",
      " hNormalization)                                                 \n",
      "                                                                 \n",
      " max_pooling2d_4 (MaxPooling  (None, 4, 4, 512)        0         \n",
      " 2D)                                                             \n",
      "                                                                 \n",
      " flatten (Flatten)           (None, 8192)              0         \n",
      "                                                                 \n",
      " dropout (Dropout)           (None, 8192)              0         \n",
      "                                                                 \n",
      " dense (Dense)               (None, 512)               4194816   \n",
      "                                                                 \n",
      " dense_1 (Dense)             (None, 256)               131328    \n",
      "                                                                 \n",
      " dense_2 (Dense)             (None, 128)               32896     \n",
      "                                                                 \n",
      " dense_3 (Dense)             (None, 10)                1290      \n",
      "                                                                 \n",
      "=================================================================\n",
      "Total params: 8,277,002\n",
      "Trainable params: 8,274,058\n",
      "Non-trainable params: 2,944\n",
      "_________________________________________________________________\n"
     ]
    }
   ],
   "source": [
    "cnn_model.summary()"
   ]
  },
  {
   "cell_type": "markdown",
   "metadata": {
    "id": "0cOqjK75wMlU"
   },
   "source": [
    "### Feature extraction"
   ]
  },
  {
   "cell_type": "code",
   "execution_count": 9,
   "metadata": {
    "id": "wY5GohE1d542"
   },
   "outputs": [],
   "source": [
    "from tensorflow.keras.models import Model\n",
    "intermediate_layer_model=Model(inputs=cnn_model.input,\n",
    "                               outputs=cnn_model.get_layer('dense_2').output)"
   ]
  },
  {
   "cell_type": "code",
   "execution_count": 11,
   "metadata": {
    "colab": {
     "base_uri": "https://localhost:8080/"
    },
    "executionInfo": {
     "elapsed": 23973,
     "status": "ok",
     "timestamp": 1673436945300,
     "user": {
      "displayName": "Pulavendran S",
      "userId": "09545379829326731753"
     },
     "user_tz": -330
    },
    "id": "qYP7k8oYgRRo",
    "outputId": "d298c432-0a49-442e-dea9-9208b5ee8486"
   },
   "outputs": [
    {
     "name": "stdout",
     "output_type": "stream",
     "text": [
      "350/350 [==============================] - 288s 822ms/step\n"
     ]
    }
   ],
   "source": [
    "image_features=intermediate_layer_model.predict(X,batch_size=32,verbose=1)"
   ]
  },
  {
   "cell_type": "markdown",
   "metadata": {
    "id": "TdRxWsXBwWLM"
   },
   "source": [
    "### Extracted features in tabular format"
   ]
  },
  {
   "cell_type": "code",
   "execution_count": 12,
   "metadata": {
    "colab": {
     "base_uri": "https://localhost:8080/",
     "height": 456
    },
    "executionInfo": {
     "elapsed": 952,
     "status": "ok",
     "timestamp": 1673437274186,
     "user": {
      "displayName": "Pulavendran S",
      "userId": "09545379829326731753"
     },
     "user_tz": -330
    },
    "id": "gx_ztn2Agoam",
    "outputId": "27789118-d101-40f9-fcbd-a30f6aaef4bb"
   },
   "outputs": [
    {
     "data": {
      "text/html": [
       "<div>\n",
       "<style scoped>\n",
       "    .dataframe tbody tr th:only-of-type {\n",
       "        vertical-align: middle;\n",
       "    }\n",
       "\n",
       "    .dataframe tbody tr th {\n",
       "        vertical-align: top;\n",
       "    }\n",
       "\n",
       "    .dataframe thead th {\n",
       "        text-align: right;\n",
       "    }\n",
       "</style>\n",
       "<table border=\"1\" class=\"dataframe\">\n",
       "  <thead>\n",
       "    <tr style=\"text-align: right;\">\n",
       "      <th></th>\n",
       "      <th>feature_1</th>\n",
       "      <th>feature_2</th>\n",
       "      <th>feature_3</th>\n",
       "      <th>feature_4</th>\n",
       "      <th>feature_5</th>\n",
       "      <th>feature_6</th>\n",
       "      <th>feature_7</th>\n",
       "      <th>feature_8</th>\n",
       "      <th>feature_9</th>\n",
       "      <th>feature_10</th>\n",
       "      <th>...</th>\n",
       "      <th>feature_120</th>\n",
       "      <th>feature_121</th>\n",
       "      <th>feature_122</th>\n",
       "      <th>feature_123</th>\n",
       "      <th>feature_124</th>\n",
       "      <th>feature_125</th>\n",
       "      <th>feature_126</th>\n",
       "      <th>feature_127</th>\n",
       "      <th>feature_128</th>\n",
       "      <th>label</th>\n",
       "    </tr>\n",
       "  </thead>\n",
       "  <tbody>\n",
       "    <tr>\n",
       "      <th>0</th>\n",
       "      <td>0.0</td>\n",
       "      <td>0.0</td>\n",
       "      <td>0.000000</td>\n",
       "      <td>0.0</td>\n",
       "      <td>0.0</td>\n",
       "      <td>0.0</td>\n",
       "      <td>0.000000</td>\n",
       "      <td>0.0</td>\n",
       "      <td>0.0</td>\n",
       "      <td>0.000000</td>\n",
       "      <td>...</td>\n",
       "      <td>0.0</td>\n",
       "      <td>0.0</td>\n",
       "      <td>0.0</td>\n",
       "      <td>0.0</td>\n",
       "      <td>0.0</td>\n",
       "      <td>10.819415</td>\n",
       "      <td>0.0</td>\n",
       "      <td>0.0</td>\n",
       "      <td>0.0</td>\n",
       "      <td>7</td>\n",
       "    </tr>\n",
       "    <tr>\n",
       "      <th>1</th>\n",
       "      <td>0.0</td>\n",
       "      <td>0.0</td>\n",
       "      <td>0.000000</td>\n",
       "      <td>0.0</td>\n",
       "      <td>0.0</td>\n",
       "      <td>0.0</td>\n",
       "      <td>0.000000</td>\n",
       "      <td>0.0</td>\n",
       "      <td>0.0</td>\n",
       "      <td>0.000000</td>\n",
       "      <td>...</td>\n",
       "      <td>0.0</td>\n",
       "      <td>0.0</td>\n",
       "      <td>0.0</td>\n",
       "      <td>0.0</td>\n",
       "      <td>0.0</td>\n",
       "      <td>0.000000</td>\n",
       "      <td>0.0</td>\n",
       "      <td>0.0</td>\n",
       "      <td>0.0</td>\n",
       "      <td>6</td>\n",
       "    </tr>\n",
       "    <tr>\n",
       "      <th>2</th>\n",
       "      <td>0.0</td>\n",
       "      <td>0.0</td>\n",
       "      <td>0.000000</td>\n",
       "      <td>0.0</td>\n",
       "      <td>0.0</td>\n",
       "      <td>0.0</td>\n",
       "      <td>0.000000</td>\n",
       "      <td>0.0</td>\n",
       "      <td>0.0</td>\n",
       "      <td>0.000000</td>\n",
       "      <td>...</td>\n",
       "      <td>0.0</td>\n",
       "      <td>0.0</td>\n",
       "      <td>0.0</td>\n",
       "      <td>0.0</td>\n",
       "      <td>0.0</td>\n",
       "      <td>10.390684</td>\n",
       "      <td>0.0</td>\n",
       "      <td>0.0</td>\n",
       "      <td>0.0</td>\n",
       "      <td>7</td>\n",
       "    </tr>\n",
       "    <tr>\n",
       "      <th>3</th>\n",
       "      <td>0.0</td>\n",
       "      <td>0.0</td>\n",
       "      <td>26.509972</td>\n",
       "      <td>0.0</td>\n",
       "      <td>0.0</td>\n",
       "      <td>0.0</td>\n",
       "      <td>0.000000</td>\n",
       "      <td>0.0</td>\n",
       "      <td>0.0</td>\n",
       "      <td>0.000000</td>\n",
       "      <td>...</td>\n",
       "      <td>0.0</td>\n",
       "      <td>0.0</td>\n",
       "      <td>0.0</td>\n",
       "      <td>0.0</td>\n",
       "      <td>0.0</td>\n",
       "      <td>0.000000</td>\n",
       "      <td>0.0</td>\n",
       "      <td>0.0</td>\n",
       "      <td>0.0</td>\n",
       "      <td>4</td>\n",
       "    </tr>\n",
       "    <tr>\n",
       "      <th>4</th>\n",
       "      <td>0.0</td>\n",
       "      <td>0.0</td>\n",
       "      <td>0.000000</td>\n",
       "      <td>0.0</td>\n",
       "      <td>0.0</td>\n",
       "      <td>0.0</td>\n",
       "      <td>0.000000</td>\n",
       "      <td>0.0</td>\n",
       "      <td>0.0</td>\n",
       "      <td>0.000000</td>\n",
       "      <td>...</td>\n",
       "      <td>0.0</td>\n",
       "      <td>0.0</td>\n",
       "      <td>0.0</td>\n",
       "      <td>0.0</td>\n",
       "      <td>0.0</td>\n",
       "      <td>52.810894</td>\n",
       "      <td>0.0</td>\n",
       "      <td>0.0</td>\n",
       "      <td>0.0</td>\n",
       "      <td>3</td>\n",
       "    </tr>\n",
       "    <tr>\n",
       "      <th>5</th>\n",
       "      <td>0.0</td>\n",
       "      <td>0.0</td>\n",
       "      <td>0.000000</td>\n",
       "      <td>0.0</td>\n",
       "      <td>0.0</td>\n",
       "      <td>0.0</td>\n",
       "      <td>12.951874</td>\n",
       "      <td>0.0</td>\n",
       "      <td>0.0</td>\n",
       "      <td>1.918265</td>\n",
       "      <td>...</td>\n",
       "      <td>0.0</td>\n",
       "      <td>0.0</td>\n",
       "      <td>0.0</td>\n",
       "      <td>0.0</td>\n",
       "      <td>0.0</td>\n",
       "      <td>18.786961</td>\n",
       "      <td>0.0</td>\n",
       "      <td>0.0</td>\n",
       "      <td>0.0</td>\n",
       "      <td>8</td>\n",
       "    </tr>\n",
       "    <tr>\n",
       "      <th>6</th>\n",
       "      <td>0.0</td>\n",
       "      <td>0.0</td>\n",
       "      <td>0.000000</td>\n",
       "      <td>0.0</td>\n",
       "      <td>0.0</td>\n",
       "      <td>0.0</td>\n",
       "      <td>0.000000</td>\n",
       "      <td>0.0</td>\n",
       "      <td>0.0</td>\n",
       "      <td>0.000000</td>\n",
       "      <td>...</td>\n",
       "      <td>0.0</td>\n",
       "      <td>0.0</td>\n",
       "      <td>0.0</td>\n",
       "      <td>0.0</td>\n",
       "      <td>0.0</td>\n",
       "      <td>33.639439</td>\n",
       "      <td>0.0</td>\n",
       "      <td>0.0</td>\n",
       "      <td>0.0</td>\n",
       "      <td>3</td>\n",
       "    </tr>\n",
       "    <tr>\n",
       "      <th>7</th>\n",
       "      <td>0.0</td>\n",
       "      <td>0.0</td>\n",
       "      <td>0.000000</td>\n",
       "      <td>0.0</td>\n",
       "      <td>0.0</td>\n",
       "      <td>0.0</td>\n",
       "      <td>13.505110</td>\n",
       "      <td>0.0</td>\n",
       "      <td>0.0</td>\n",
       "      <td>0.000000</td>\n",
       "      <td>...</td>\n",
       "      <td>0.0</td>\n",
       "      <td>0.0</td>\n",
       "      <td>0.0</td>\n",
       "      <td>0.0</td>\n",
       "      <td>0.0</td>\n",
       "      <td>0.000000</td>\n",
       "      <td>0.0</td>\n",
       "      <td>0.0</td>\n",
       "      <td>0.0</td>\n",
       "      <td>1</td>\n",
       "    </tr>\n",
       "    <tr>\n",
       "      <th>8</th>\n",
       "      <td>0.0</td>\n",
       "      <td>0.0</td>\n",
       "      <td>0.000000</td>\n",
       "      <td>0.0</td>\n",
       "      <td>0.0</td>\n",
       "      <td>0.0</td>\n",
       "      <td>0.000000</td>\n",
       "      <td>0.0</td>\n",
       "      <td>0.0</td>\n",
       "      <td>0.000000</td>\n",
       "      <td>...</td>\n",
       "      <td>0.0</td>\n",
       "      <td>0.0</td>\n",
       "      <td>0.0</td>\n",
       "      <td>0.0</td>\n",
       "      <td>0.0</td>\n",
       "      <td>10.609745</td>\n",
       "      <td>0.0</td>\n",
       "      <td>0.0</td>\n",
       "      <td>0.0</td>\n",
       "      <td>7</td>\n",
       "    </tr>\n",
       "    <tr>\n",
       "      <th>9</th>\n",
       "      <td>0.0</td>\n",
       "      <td>0.0</td>\n",
       "      <td>0.000000</td>\n",
       "      <td>0.0</td>\n",
       "      <td>0.0</td>\n",
       "      <td>0.0</td>\n",
       "      <td>34.417782</td>\n",
       "      <td>0.0</td>\n",
       "      <td>0.0</td>\n",
       "      <td>18.280046</td>\n",
       "      <td>...</td>\n",
       "      <td>0.0</td>\n",
       "      <td>0.0</td>\n",
       "      <td>0.0</td>\n",
       "      <td>0.0</td>\n",
       "      <td>0.0</td>\n",
       "      <td>42.696049</td>\n",
       "      <td>0.0</td>\n",
       "      <td>0.0</td>\n",
       "      <td>0.0</td>\n",
       "      <td>8</td>\n",
       "    </tr>\n",
       "  </tbody>\n",
       "</table>\n",
       "<p>10 rows × 129 columns</p>\n",
       "</div>"
      ],
      "text/plain": [
       "   feature_1  feature_2  feature_3  feature_4  feature_5  feature_6  \\\n",
       "0        0.0        0.0   0.000000        0.0        0.0        0.0   \n",
       "1        0.0        0.0   0.000000        0.0        0.0        0.0   \n",
       "2        0.0        0.0   0.000000        0.0        0.0        0.0   \n",
       "3        0.0        0.0  26.509972        0.0        0.0        0.0   \n",
       "4        0.0        0.0   0.000000        0.0        0.0        0.0   \n",
       "5        0.0        0.0   0.000000        0.0        0.0        0.0   \n",
       "6        0.0        0.0   0.000000        0.0        0.0        0.0   \n",
       "7        0.0        0.0   0.000000        0.0        0.0        0.0   \n",
       "8        0.0        0.0   0.000000        0.0        0.0        0.0   \n",
       "9        0.0        0.0   0.000000        0.0        0.0        0.0   \n",
       "\n",
       "   feature_7  feature_8  feature_9  feature_10  ...  feature_120  feature_121  \\\n",
       "0   0.000000        0.0        0.0    0.000000  ...          0.0          0.0   \n",
       "1   0.000000        0.0        0.0    0.000000  ...          0.0          0.0   \n",
       "2   0.000000        0.0        0.0    0.000000  ...          0.0          0.0   \n",
       "3   0.000000        0.0        0.0    0.000000  ...          0.0          0.0   \n",
       "4   0.000000        0.0        0.0    0.000000  ...          0.0          0.0   \n",
       "5  12.951874        0.0        0.0    1.918265  ...          0.0          0.0   \n",
       "6   0.000000        0.0        0.0    0.000000  ...          0.0          0.0   \n",
       "7  13.505110        0.0        0.0    0.000000  ...          0.0          0.0   \n",
       "8   0.000000        0.0        0.0    0.000000  ...          0.0          0.0   \n",
       "9  34.417782        0.0        0.0   18.280046  ...          0.0          0.0   \n",
       "\n",
       "   feature_122  feature_123  feature_124  feature_125  feature_126  \\\n",
       "0          0.0          0.0          0.0    10.819415          0.0   \n",
       "1          0.0          0.0          0.0     0.000000          0.0   \n",
       "2          0.0          0.0          0.0    10.390684          0.0   \n",
       "3          0.0          0.0          0.0     0.000000          0.0   \n",
       "4          0.0          0.0          0.0    52.810894          0.0   \n",
       "5          0.0          0.0          0.0    18.786961          0.0   \n",
       "6          0.0          0.0          0.0    33.639439          0.0   \n",
       "7          0.0          0.0          0.0     0.000000          0.0   \n",
       "8          0.0          0.0          0.0    10.609745          0.0   \n",
       "9          0.0          0.0          0.0    42.696049          0.0   \n",
       "\n",
       "   feature_127  feature_128  label  \n",
       "0          0.0          0.0      7  \n",
       "1          0.0          0.0      6  \n",
       "2          0.0          0.0      7  \n",
       "3          0.0          0.0      4  \n",
       "4          0.0          0.0      3  \n",
       "5          0.0          0.0      8  \n",
       "6          0.0          0.0      3  \n",
       "7          0.0          0.0      1  \n",
       "8          0.0          0.0      7  \n",
       "9          0.0          0.0      8  \n",
       "\n",
       "[10 rows x 129 columns]"
      ]
     },
     "execution_count": 12,
     "metadata": {},
     "output_type": "execute_result"
    }
   ],
   "source": [
    "column_names=[]\n",
    "for i in range(128):\n",
    "    column_names.append(\"feature_\"+str(i+1))\n",
    "\n",
    "features_df=pd.DataFrame(data=image_features,columns=column_names)\n",
    "features_df['label']=y\n",
    "features_df.head(10)"
   ]
  },
  {
   "cell_type": "markdown",
   "metadata": {
    "id": "3jIL9MVlwRM6"
   },
   "source": [
    "### saving the data"
   ]
  },
  {
   "cell_type": "code",
   "execution_count": 13,
   "metadata": {
    "id": "ydxPnKIeohPg"
   },
   "outputs": [],
   "source": [
    "features_df.to_csv(\"input/images_features.csv\",index=False)"
   ]
  },
  {
   "cell_type": "code",
   "execution_count": null,
   "metadata": {
    "id": "ffu86ygHpS6W"
   },
   "outputs": [],
   "source": []
  }
 ],
 "metadata": {
  "accelerator": "GPU",
  "colab": {
   "authorship_tag": "ABX9TyODj4WvbGVSif+x6S/q7jgj",
   "provenance": []
  },
  "gpuClass": "standard",
  "kernelspec": {
   "display_name": "Python 3 (ipykernel)",
   "language": "python",
   "name": "python3"
  },
  "language_info": {
   "codemirror_mode": {
    "name": "ipython",
    "version": 3
   },
   "file_extension": ".py",
   "mimetype": "text/x-python",
   "name": "python",
   "nbconvert_exporter": "python",
   "pygments_lexer": "ipython3",
   "version": "3.9.7"
  }
 },
 "nbformat": 4,
 "nbformat_minor": 1
}
